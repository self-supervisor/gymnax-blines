{
 "cells": [
  {
   "cell_type": "code",
   "execution_count": 32,
   "metadata": {},
   "outputs": [],
   "source": [
    "import numpy as np\n",
    "\n",
    "\n",
    "def init_minatar(ax, obs, state):\n",
    "    import seaborn as sns\n",
    "    import matplotlib.colors as colors\n",
    "\n",
    "    n_channels = obs.shape[-1]\n",
    "    # The seaborn color_palette cubhelix is used to assign visually distinct colors to each channel for the env\n",
    "    cmap = sns.color_palette(\"cubehelix\", n_channels)\n",
    "    cmap.insert(0, (0, 0, 0))\n",
    "    cmap = colors.ListedColormap(cmap)\n",
    "    bounds = [i for i in range(n_channels + 2)]\n",
    "    norm = colors.BoundaryNorm(bounds, n_channels + 1)\n",
    "    numerical_state = (\n",
    "        np.amax(obs * np.reshape(np.arange(n_channels) + 1, (1, 1, -1)), 2)\n",
    "        + 0.5\n",
    "    )\n",
    "    # ax.set_xticks([])\n",
    "    # ax.set_yticks([])\n",
    "    # return ax.imshow(\n",
    "    #     numerical_state, cmap=cmap, norm=norm, interpolation=\"none\"\n",
    "    # ), numerical_state\n",
    "    return numerical_state\n",
    "\n",
    "\n",
    "def update_minatar(im, obs):\n",
    "    n_channels = obs.shape[-1]\n",
    "    numerical_state = (\n",
    "        np.amax(obs * np.reshape(np.arange(n_channels) + 1, (1, 1, -1)), 2)\n",
    "        + 0.5\n",
    "    )\n",
    "    im.set_data(numerical_state)\n",
    "    return numerical_state"
   ]
  },
  {
   "cell_type": "code",
   "execution_count": 33,
   "metadata": {},
   "outputs": [
    {
     "name": "stderr",
     "output_type": "stream",
     "text": [
      "/tmp/ipykernel_712272/1250371384.py:24: DeprecationWarning: Starting with ImageIO v3 the behavior of this function will switch to that of iio.v3.imread. To keep the current behavior (and make this warning dissapear) use `import imageio.v2 as imageio` or call `imageio.v2.imread` directly.\n",
      "  images = [imageio.imread(filename) for filename in filename_list]\n"
     ]
    }
   ],
   "source": [
    "import matplotlib.pyplot as plt \n",
    "\n",
    "title_str_list = [\"ground_truth_obs\", \"pred_obs\"]\n",
    "for title_str in title_str_list:\n",
    "    filename_list = []\n",
    "    frames = np.load(f\"gymnax/examples/{title_str}.npy\")\n",
    "    if title_str == \"pred_obs\":\n",
    "        frames.reshape(39, 10, 10, 6)\n",
    "\n",
    "    numerical_states = []\n",
    "    for i in range(len(frames)):\n",
    "        numerical_states.append(init_minatar(plt.gca(), ground_truth[i], 0))\n",
    "\n",
    "    for i in range(len(numerical_states)):\n",
    "        plt.imshow(numerical_states[i])\n",
    "        filename = f\"gymnax/examples/{title_str}_{i}.png\"\n",
    "        plt.savefig(filename)\n",
    "        filename_list.append(filename)\n",
    "        plt.close()\n",
    "\n",
    "    import imageio\n",
    "\n",
    "    # Read all the saved PNG files into a list of image arrays\n",
    "    images = [imageio.imread(filename) for filename in filename_list]\n",
    "\n",
    "    # Use the imageio library to create an animated GIF from the image list\n",
    "    imageio.mimsave(f'animation_{title_str}.gif', images, duration=0.1)"
   ]
  }
 ],
 "metadata": {
  "kernelspec": {
   "display_name": "cleanrl_jax",
   "language": "python",
   "name": "python3"
  },
  "language_info": {
   "codemirror_mode": {
    "name": "ipython",
    "version": 3
   },
   "file_extension": ".py",
   "mimetype": "text/x-python",
   "name": "python",
   "nbconvert_exporter": "python",
   "pygments_lexer": "ipython3",
   "version": "3.8.15"
  },
  "orig_nbformat": 4
 },
 "nbformat": 4,
 "nbformat_minor": 2
}
